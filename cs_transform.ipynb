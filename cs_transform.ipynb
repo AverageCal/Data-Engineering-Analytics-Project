{
 "cells": [
  {
   "cell_type": "markdown",
   "metadata": {},
   "source": [
    "# **Customer Shopping Preference Dataset Transformation For Data Modelling (Kimball/Star Schema Approach)**"
   ]
  },
  {
   "cell_type": "code",
   "execution_count": null,
   "metadata": {},
   "outputs": [],
   "source": [
    "import pandas as pd"
   ]
  },
  {
   "cell_type": "code",
   "execution_count": null,
   "metadata": {},
   "outputs": [],
   "source": [
    "df = pd.read_csv('shopping_trends_updated_2.csv')\n",
    "shop_df = df.copy()\n",
    "shop_df.head()"
   ]
  },
  {
   "cell_type": "code",
   "execution_count": null,
   "metadata": {},
   "outputs": [],
   "source": [
    "shop_df.info()"
   ]
  },
  {
   "cell_type": "code",
   "execution_count": null,
   "metadata": {},
   "outputs": [],
   "source": [
    "shop_df.rename(columns={\n",
    "    'Customer ID':'Customer_ID',\n",
    "    'Item Purchased':'Item_Purchased',\n",
    "    'Purchase Amount (USD)':'Purchase_Amount_USD',\n",
    "    'Review Rating':'Review_Rating',\n",
    "    'Subscription Status':'Subscription_Status',\n",
    "    'Shipping Type':'Shipping_Type',\n",
    "    'Discount Applied':'Discount_Applied',\n",
    "    'Promo Code Used':'Promo_Code_Used',\n",
    "    'Previous Purchases':'Previous_Purchases',\n",
    "    'Payment Method':'Payment_Method',\n",
    "    'Frequency of Purchases':'Frequency_of_Purchases'\n",
    "    },inplace=True)"
   ]
  },
  {
   "cell_type": "code",
   "execution_count": null,
   "metadata": {},
   "outputs": [],
   "source": [
    "shop_df"
   ]
  },
  {
   "cell_type": "code",
   "execution_count": null,
   "metadata": {},
   "outputs": [],
   "source": [
    "shop_df.duplicated().value_counts()"
   ]
  },
  {
   "cell_type": "markdown",
   "metadata": {},
   "source": [
    "**Customers Dimension Table:**"
   ]
  },
  {
   "cell_type": "code",
   "execution_count": null,
   "metadata": {},
   "outputs": [],
   "source": [
    "dim_customers = shop_df[['Customer_ID', 'Age', 'Gender']]\n",
    "dim_customers"
   ]
  },
  {
   "cell_type": "markdown",
   "metadata": {},
   "source": [
    "**Items Dimension Table::**"
   ]
  },
  {
   "cell_type": "code",
   "execution_count": null,
   "metadata": {},
   "outputs": [],
   "source": [
    "dim_items = shop_df.copy()[['Item_Purchased','Category','Size', 'Color']]\n",
    "dim_items.drop_duplicates(inplace=True)\n",
    "dim_items.reset_index(inplace=True)\n",
    "dim_items.drop('index',axis=1,inplace=True)\n",
    "dim_items['Item_ID'] = dim_items.index+1\n",
    "dim_items = dim_items[['Item_ID','Item_Purchased','Category','Size', 'Color']]\n",
    "dim_items"
   ]
  },
  {
   "cell_type": "markdown",
   "metadata": {},
   "source": [
    "**I will develop a function named 'get_dim_data' to retrieve distinct values from a specified column in a dataframe. This function will assign a primary key to the resulting dataframe and subsequently provide a dimension table as output:**"
   ]
  },
  {
   "cell_type": "code",
   "execution_count": 37,
   "metadata": {},
   "outputs": [],
   "source": [
    "def get_dim_data(df,col,col_label):\n",
    "    unique_col = [n for n in df[col].unique()]\n",
    "    col_id = [x+1 for x in range(len(unique_col))]\n",
    "    dim_df = pd.DataFrame({\n",
    "        f'{col_label}_ID':col_id,\n",
    "        f'{col_label}':unique_col\n",
    "    })\n",
    "\n",
    "    return dim_df"
   ]
  },
  {
   "cell_type": "markdown",
   "metadata": {},
   "source": [
    "**Locations Dimension Table::**"
   ]
  },
  {
   "cell_type": "code",
   "execution_count": null,
   "metadata": {},
   "outputs": [],
   "source": [
    "dim_locations = get_dim_data(shop_df,'Location','Location')\n",
    "dim_locations"
   ]
  },
  {
   "cell_type": "markdown",
   "metadata": {},
   "source": [
    "**Payment Methods Dimension Table:**"
   ]
  },
  {
   "cell_type": "code",
   "execution_count": null,
   "metadata": {},
   "outputs": [],
   "source": [
    "dim_payment_methods = get_dim_data(shop_df,'Payment_Method','Payment_Method')\n",
    "dim_payment_methods"
   ]
  },
  {
   "cell_type": "markdown",
   "metadata": {},
   "source": [
    "**Shipping Types Dimension Table:**"
   ]
  },
  {
   "cell_type": "code",
   "execution_count": null,
   "metadata": {},
   "outputs": [],
   "source": [
    "dim_shipping_types = get_dim_data(shop_df,'Shipping_Type','Shipping_Type')\n",
    "dim_shipping_types"
   ]
  },
  {
   "cell_type": "markdown",
   "metadata": {},
   "source": [
    "**Transactions Fact Table:**"
   ]
  },
  {
   "cell_type": "code",
   "execution_count": null,
   "metadata": {},
   "outputs": [],
   "source": [
    "fct_transactions = shop_df.merge(dim_items,on=['Item_Purchased','Category','Size', 'Color'])\\\n",
    ".merge(dim_locations,on='Location')\\\n",
    ".merge(dim_payment_methods,on='Payment_Method')\\\n",
    ".merge(dim_shipping_types,on='Shipping_Type')\\\n",
    "[['Customer_ID','Item_ID', 'Location_ID',\n",
    "  'Payment_Method_ID', 'Shipping_Type_ID',\n",
    "  'Purchase_Amount_USD','Review_Rating',\n",
    "  'Discount_Applied','Promo_Code_Used',\n",
    "  'Subscription_Status','Previous_Purchases',\n",
    "  'Frequency_of_Purchases','Season']]\n",
    "\n",
    "fct_transactions['Transaction_ID'] = fct_transactions.index+1\n",
    "\n",
    "fct_transactions = fct_transactions[\n",
    "    ['Transaction_ID','Customer_ID','Item_ID', \n",
    "     'Location_ID','Payment_Method_ID', 'Shipping_Type_ID',\n",
    "  'Purchase_Amount_USD','Review_Rating',\n",
    "  'Discount_Applied','Promo_Code_Used',\n",
    "  'Subscription_Status','Previous_Purchases',\n",
    "  'Frequency_of_Purchases','Season']\n",
    "  ]\n",
    "\n",
    "fct_transactions"
   ]
  },
  {
   "cell_type": "markdown",
   "metadata": {},
   "source": [
    "**Write fact and dimension tables to CSV files:**"
   ]
  },
  {
   "cell_type": "code",
   "execution_count": null,
   "metadata": {},
   "outputs": [],
   "source": [
    "# df_interested = [fct_transactions,dim_customers,dim_items,dim_locations,dim_payment_methods,dim_shipping_types]\n",
    "# path = 'C:\\\\Users\\\\CORE i3\\\\Desktop\\\\Data Engineering-Analytics Project\\\\Subsets CSV\\\\'\n",
    "# file_names = ['fct_transactions','dim_customers','dim_items','dim_locations','dim_payment_methods','dim_shipping_types']\n",
    "\n",
    "# for df,name in zip(df_interested,file_names):\n",
    "#     df.to_csv(path+name+'.csv',index=False)"
   ]
  }
 ],
 "metadata": {
  "kernelspec": {
   "display_name": "Python 3",
   "language": "python",
   "name": "python3"
  },
  "language_info": {
   "codemirror_mode": {
    "name": "ipython",
    "version": 3
   },
   "file_extension": ".py",
   "mimetype": "text/x-python",
   "name": "python",
   "nbconvert_exporter": "python",
   "pygments_lexer": "ipython3",
   "version": "3.11.1"
  }
 },
 "nbformat": 4,
 "nbformat_minor": 2
}
